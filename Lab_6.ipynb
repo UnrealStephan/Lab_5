{
  "nbformat": 4,
  "nbformat_minor": 0,
  "metadata": {
    "colab": {
      "provenance": []
    },
    "kernelspec": {
      "name": "python3",
      "display_name": "Python 3"
    },
    "language_info": {
      "name": "python"
    }
  },
  "cells": [
    {
      "cell_type": "code",
      "execution_count": null,
      "metadata": {
        "colab": {
          "base_uri": "https://localhost:8080/"
        },
        "id": "omjIahkcmU2p",
        "outputId": "35ac4f7b-fe27-4110-8c48-09bf71660ea8"
      },
      "outputs": [
        {
          "output_type": "stream",
          "name": "stdout",
          "text": [
            "Requirement already satisfied: pyTelegramBotAPI in /usr/local/lib/python3.10/dist-packages (4.14.1)\n",
            "Requirement already satisfied: requests in /usr/local/lib/python3.10/dist-packages (from pyTelegramBotAPI) (2.31.0)\n",
            "Requirement already satisfied: charset-normalizer<4,>=2 in /usr/local/lib/python3.10/dist-packages (from requests->pyTelegramBotAPI) (3.3.2)\n",
            "Requirement already satisfied: idna<4,>=2.5 in /usr/local/lib/python3.10/dist-packages (from requests->pyTelegramBotAPI) (3.6)\n",
            "Requirement already satisfied: urllib3<3,>=1.21.1 in /usr/local/lib/python3.10/dist-packages (from requests->pyTelegramBotAPI) (2.0.7)\n",
            "Requirement already satisfied: certifi>=2017.4.17 in /usr/local/lib/python3.10/dist-packages (from requests->pyTelegramBotAPI) (2023.11.17)\n"
          ]
        }
      ],
      "source": [
        "!pip install pyTelegramBotAPI"
      ]
    },
    {
      "cell_type": "code",
      "source": [
        "import telebot\n",
        "from telebot import types"
      ],
      "metadata": {
        "id": "ZUckuXONtrJ6"
      },
      "execution_count": null,
      "outputs": []
    },
    {
      "cell_type": "code",
      "source": [
        "from google.colab import drive\n",
        "drive.mount('/content/drive')"
      ],
      "metadata": {
        "id": "90-j2WG0356o",
        "colab": {
          "base_uri": "https://localhost:8080/"
        },
        "outputId": "52cf58ee-2770-432f-eadf-1aa5e5159b51"
      },
      "execution_count": null,
      "outputs": [
        {
          "output_type": "stream",
          "name": "stdout",
          "text": [
            "Drive already mounted at /content/drive; to attempt to forcibly remount, call drive.mount(\"/content/drive\", force_remount=True).\n"
          ]
        }
      ]
    },
    {
      "cell_type": "code",
      "source": [
        "from bs4 import BeautifulSoup\n",
        "import requests\n",
        "from time import sleep\n",
        "import openpyxl"
      ],
      "metadata": {
        "id": "U09d0_Fs9AaD"
      },
      "execution_count": null,
      "outputs": []
    },
    {
      "cell_type": "code",
      "source": [
        "headers =  {\"User-Agent\":\"Mozilla/5.0 (Windows NT 10.0; Win64; x64) AppleWebKit/537.36 (KHTML, like Gecko) Chrome/120.0.0.0 Safari/537.36\"}\n",
        "l = [\"\", \"PAGEN_2=2&\", \"PAGEN_2=3&\"]\n",
        "\n",
        "def parsing():\n",
        "\n",
        "  for j in range(3):\n",
        "\n",
        "    sleep(3)\n",
        "\n",
        "    url = f\"https://guitar-guitar.ru/?q=%D1%81%D1%82%D1%83%D0%B4%D0%B8%D0%B9%D0%BD%D1%8B%D0%B9%20%D0%BA%D0%BE%D0%BD%D0%B4%D0%B5%D0%BD%D1%81%D0%B0%D1%82%D0%BE%D1%80%D0%BD%D1%8B%D0%B9%20%D0%BC%D0%B8%D0%BA%D1%80%D0%BE%D1%84%D0%BE%D0%BD&s=&{l[j]}SIZEN_2=15\"\n",
        "    response = requests.get(url, headers = headers)\n",
        "    soup = BeautifulSoup(response.text, \"lxml\")\n",
        "    data = soup.find_all(\"div\", class_ = \"js-product-container product-list-item\")\n",
        "\n",
        "    for i in data:\n",
        "\n",
        "      name = i.find(\"a\", class_ = \"product-name\").text.replace(\"\\t\", \"\").replace(\"\\n\", \"\")\n",
        "      price = i.find(\"div\", class_ =\"bx_price\").text.replace(\"\\t\", \"\").replace(\"\\n\", \"\")\n",
        "      url_img = \"https://guitar-guitar.ru\" + i.find(\"img\", class_ = \"lazy\").get(\"data-src\")\n",
        "\n",
        "      yield name, price, url_img"
      ],
      "metadata": {
        "id": "2D3XCWmt86kY"
      },
      "execution_count": null,
      "outputs": []
    },
    {
      "cell_type": "code",
      "source": [
        "def record(parsing):\n",
        "\n",
        "  book = openpyxl.Workbook()\n",
        "  book.remove(book.active)\n",
        "  sheet_1 = book.create_sheet('Студийный конденсаторный микрофон')\n",
        "\n",
        "  sheet_1.column_dimensions['A'].width = 100\n",
        "  sheet_1.column_dimensions['B'].width = 10\n",
        "  sheet_1.column_dimensions['C'].width = 100\n",
        "\n",
        "  row = 1\n",
        "  column = 1\n",
        "\n",
        "  for item in parsing():\n",
        "\n",
        "    sheet_1.cell(row, column , item[0])\n",
        "    sheet_1.cell(row, column+1 , item[1])\n",
        "    sheet_1.cell(row, column+2,).hyperlink = item[2]\n",
        "\n",
        "    row+=1\n",
        "\n",
        "  book.save(\"/content/drive/MyDrive/АД и МО/Lab_5_6/Гитар-гитар.xlsx\")\n",
        "  book.close()"
      ],
      "metadata": {
        "id": "5--ls-LF89c6"
      },
      "execution_count": null,
      "outputs": []
    },
    {
      "cell_type": "code",
      "source": [
        "bot = telebot.TeleBot('6392047296:AAFcVMaAmq3-unMLnSHTYoCE8UQOKNJHJ_k')\n",
        "\n",
        "def on_click(message):\n",
        "\n",
        "  del_bttn = telebot.types.ReplyKeyboardRemove()\n",
        "\n",
        "  if message.text == 'Перейти на сайт':\n",
        "\n",
        "    bot.send_message(message.chat.id, 'https://guitar-guitar.ru/?q=%D1%81%D1%82%D1%83%D0%B4%D0%B8%D0%B9%D0%BD%D1%8B%D0%B9%20%D0%BA%D0%BE%D0%BD%D0%B4%D0%B5%D0%BD%D1%81%D0%B0%D1%82%D0%BE%D1%80%D0%BD%D1%8B%D0%B9%20%D0%BC%D0%B8%D0%BA%D1%80%D0%BE%D1%84%D0%BE%D0%BD&s=&SIZEN_2=15')\n",
        "    bot.register_next_step_handler(message, on_click)\n",
        "\n",
        "  elif message.text == 'Выполнить парсинг':\n",
        "\n",
        "    bot.send_message(message.chat.id, 'Парсинг выполняется...',  reply_markup = del_bttn)\n",
        "    record(parsing)\n",
        "    markup = types.ReplyKeyboardMarkup(resize_keyboard=True)\n",
        "    bttn_1 = types.InlineKeyboardButton('Перейти на сайт')\n",
        "    bttn_2 = types.InlineKeyboardButton('Выполнить парсинг')\n",
        "    bttn_3 = types.InlineKeyboardButton('Скачать .xlsx')\n",
        "    bttn_4 = types.InlineKeyboardButton('Просмотреть .xlsx в браузере')\n",
        "    markup.add(bttn_1, bttn_2, bttn_3, bttn_4)\n",
        "    bot.send_message(message.chat.id, 'Парсинг выполнен!', reply_markup = markup)\n",
        "\n",
        "    bot.register_next_step_handler(message, on_click)\n",
        "\n",
        "  elif message.text == 'Скачать .xlsx':\n",
        "\n",
        "    file = open('/content/drive/MyDrive/АД и МО/Lab_5_6/Гитар-гитар.xlsx', 'rb')\n",
        "    bot.send_document(message.chat.id, file)\n",
        "    bot.register_next_step_handler(message, on_click)\n",
        "\n",
        "  elif message.text == 'Просмотреть .xlsx в браузере':\n",
        "\n",
        "    bot.send_message(message.chat.id, 'https://docs.google.com/spreadsheets/d/1b53Iz0I0IDsR9UYK_G6DJmMMSl12miXS/edit?usp=drive_link&ouid=115227375262358642455&rtpof=true&sd=true')\n",
        "    bot.register_next_step_handler(message, on_click)\n",
        "\n",
        "  elif message.text == '/start':\n",
        "\n",
        "    start(message)\n",
        "\n",
        "  elif message.text == '/help':\n",
        "\n",
        "    help(message)\n",
        "\n",
        "  else:\n",
        "\n",
        "    bot.send_message(message.chat.id, 'Извините, я вас не понимаю, пожалуйста, используйте кнопки!')\n",
        "    bot.register_next_step_handler(message, on_click)\n",
        "\n",
        "\n",
        "@bot.message_handler(commands=['start'])\n",
        "def start(message):\n",
        "\n",
        "  del_bttn = telebot.types.ReplyKeyboardRemove()\n",
        "  keyboard = types.ReplyKeyboardMarkup(resize_keyboard=True)\n",
        "  bttn_1 = types.InlineKeyboardButton('Перейти на сайт')\n",
        "  bttn_2 = types.InlineKeyboardButton('Выполнить парсинг')\n",
        "  keyboard.add(bttn_1, bttn_2)\n",
        "  bot.send_message(message.chat.id, f'Здравствуйте, {message.from_user.first_name}', reply_markup = del_bttn)\n",
        "  sleep(1)\n",
        "  bot.send_message(message.chat.id, 'Советую ознакомиться с интрукцией! Для этого загляните в меню', reply_markup=keyboard)\n",
        "  bot.register_next_step_handler(message, on_click)\n",
        "\n",
        "@bot.message_handler(commands=['help'])\n",
        "def help(message):\n",
        "\n",
        "  bot.send_message(message.chat.id, 'Благодаря алгоритму парсинга система собирает данные о моделях студийных конденсаторных микрофонов, представленных на сайте магазина музыкальных инструментов \"Гитар-Гитар\"')\n",
        "  sleep(3)\n",
        "  bot.send_message(message.chat.id, 'Затем система помещает данные в .xlsx-файл, который вы можете просмотреть в браузере или скачать')\n",
        "  bot.register_next_step_handler(message, on_click)\n",
        "\n",
        "bot.polling(none_stop = True)"
      ],
      "metadata": {
        "id": "VGwf1l-rnao9"
      },
      "execution_count": null,
      "outputs": []
    }
  ]
}
