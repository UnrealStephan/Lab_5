{
  "nbformat": 4,
  "nbformat_minor": 0,
  "metadata": {
    "colab": {
      "provenance": []
    },
    "kernelspec": {
      "name": "python3",
      "display_name": "Python 3"
    },
    "language_info": {
      "name": "python"
    }
  },
  "cells": [
    {
      "cell_type": "markdown",
      "source": [
        "Импортируем библиотеки, подключаемся к гугл диску"
      ],
      "metadata": {
        "id": "KdHn0NSq9BzG"
      }
    },
    {
      "cell_type": "code",
      "execution_count": 19,
      "metadata": {
        "id": "Xly5p1i18gQ7",
        "colab": {
          "base_uri": "https://localhost:8080/"
        },
        "outputId": "03dab304-8bf5-4f93-9dc6-f76b629e1aef"
      },
      "outputs": [
        {
          "output_type": "stream",
          "name": "stdout",
          "text": [
            "Drive already mounted at /content/drive; to attempt to forcibly remount, call drive.mount(\"/content/drive\", force_remount=True).\n"
          ]
        }
      ],
      "source": [
        "from bs4 import BeautifulSoup\n",
        "import requests\n",
        "from time import sleep\n",
        "import openpyxl\n",
        "\n",
        "from google.colab import drive\n",
        "drive.mount('/content/drive')"
      ]
    },
    {
      "cell_type": "markdown",
      "source": [
        "Реализуем функцию парсинга"
      ],
      "metadata": {
        "id": "FqwtoO2wCm0r"
      }
    },
    {
      "cell_type": "code",
      "source": [
        "headers =  {\"User-Agent\":\"Mozilla/5.0 (Windows NT 10.0; Win64; x64) AppleWebKit/537.36 (KHTML, like Gecko) Chrome/120.0.0.0 Safari/537.36\"}\n",
        "l = [\"\", \"PAGEN_2=2&\", \"PAGEN_2=3&\"]\n",
        "\n",
        "def parsing():\n",
        "\n",
        "  for j in range(3):\n",
        "\n",
        "    sleep(3)\n",
        "\n",
        "    url = f\"https://guitar-guitar.ru/?q=%D1%81%D1%82%D1%83%D0%B4%D0%B8%D0%B9%D0%BD%D1%8B%D0%B9%20%D0%BA%D0%BE%D0%BD%D0%B4%D0%B5%D0%BD%D1%81%D0%B0%D1%82%D0%BE%D1%80%D0%BD%D1%8B%D0%B9%20%D0%BC%D0%B8%D0%BA%D1%80%D0%BE%D1%84%D0%BE%D0%BD&s=&{l[j]}SIZEN_2=15\"\n",
        "    response = requests.get(url, headers = headers)\n",
        "    soup = BeautifulSoup(response.text, \"lxml\")\n",
        "    data = soup.find_all(\"div\", class_ = \"js-product-container product-list-item\")\n",
        "\n",
        "    for i in data:\n",
        "\n",
        "      name = i.find(\"a\", class_ = \"product-name\").text.replace(\"\\t\", \"\").replace(\"\\n\", \"\")\n",
        "      price = i.find(\"div\", class_ =\"bx_price\").text.replace(\"\\t\", \"\").replace(\"\\n\", \"\")\n",
        "      url_img = \"https://guitar-guitar.ru\" + i.find(\"img\", class_ = \"lazy\").get(\"data-src\")\n",
        "\n",
        "      yield name, price, url_img"
      ],
      "metadata": {
        "id": "ApGGdbf-9HEJ"
      },
      "execution_count": 20,
      "outputs": []
    },
    {
      "cell_type": "markdown",
      "source": [
        "Реализуем функцию записи данных в .xlsx документ"
      ],
      "metadata": {
        "id": "MyutPuzGPgyH"
      }
    },
    {
      "cell_type": "code",
      "source": [
        "def record(parsing):\n",
        "\n",
        "  book = openpyxl.Workbook()\n",
        "  book.remove(book.active)\n",
        "  sheet_1 = book.create_sheet('Студийный конденсаторный микрофон')\n",
        "\n",
        "  sheet_1.column_dimensions['A'].width = 100\n",
        "  sheet_1.column_dimensions['B'].width = 10\n",
        "  sheet_1.column_dimensions['C'].width = 100\n",
        "\n",
        "  row = 1\n",
        "  column = 1\n",
        "\n",
        "  for item in parsing():\n",
        "\n",
        "    sheet_1.cell(row, column , item[0])\n",
        "    sheet_1.cell(row, column+1 , item[1])\n",
        "    sheet_1.cell(row, column+2,).hyperlink = item[2]\n",
        "\n",
        "    row+=1\n",
        "\n",
        "  book.save(\"/content/drive/MyDrive/АД и МО/Lab_5_6/Гитар-гитар.xlsx\")\n",
        "  book.close()"
      ],
      "metadata": {
        "id": "gK6pLN2LPn1e"
      },
      "execution_count": 21,
      "outputs": []
    },
    {
      "cell_type": "markdown",
      "source": [
        "Вызываем функцию записи"
      ],
      "metadata": {
        "id": "rs6Tp_IyQHnd"
      }
    },
    {
      "cell_type": "code",
      "source": [
        "record(parsing)"
      ],
      "metadata": {
        "id": "AMeLdq9EP_x9"
      },
      "execution_count": 22,
      "outputs": []
    }
  ]
}
